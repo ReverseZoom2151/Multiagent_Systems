{
 "cells": [
  {
   "cell_type": "code",
   "execution_count": 175,
   "metadata": {},
   "outputs": [],
   "source": [
    "import numpy as np\n",
    "import scipy as sp\n",
    "from scipy import stats\n",
    "import matplotlib.pyplot as plt "
   ]
  },
  {
   "cell_type": "code",
   "execution_count": 176,
   "metadata": {
    "id": "glNIQt9Lkwf7"
   },
   "outputs": [],
   "source": [
    "NUM_OF_AGENTS = 1000\n",
    "\n",
    "# PLACES\n",
    "PARK = 0\n",
    "HOME = 1\n",
    "GROCERY = 2\n",
    "QC = 3 # Quarantine center\n",
    "VC = 4 # Vaccination center \n",
    "\n",
    "# There needs to be a place, vaccination center, where agents can get vaccinated\n",
    "# Vaccination center can only vaccinate 10 agents each day\n",
    "VC_LIMIT = 10 \n",
    "\n",
    "# INFECTION STATES *** Revised infection states\n",
    "NOT_INFECTED = 0\n",
    "INFECTED_A = 1 #Asymptomatic\n",
    "INFECTED_S_MILD = 2 # Symptomatic Mild\n",
    "INFECTED_S_CRITICAL = 3 # Symptomatic INFECTED_S_CRITICAL\n",
    "RECOVERED = 4 # Recovered\n",
    "DECEASED = 5 # Deceased \n",
    "\n",
    "# Capacity of quarantine center\n",
    "QC_LIMIT = 100 # Capacity of quarantine center\n",
    "\n",
    "# DiseaseStateTransitionProbabilities\n",
    "ALPHA_V = 0.5 # vaccinated\n",
    "ALPHA_NV = 1 # not vaccinated\n",
    "BETA_NH = 1 # not staying at home\n",
    "BETA_H = 2 # staying at home\n",
    "\n",
    "PROB_notinf_to_infa = 0.8\n",
    "PROB_infa_to_infm = 0.36\n",
    "PROB_infm_to_infc = 0.01\n",
    "PROB_infa_to_rec = 0.2\n",
    "PROB_infm_to_rec = 0.1\n",
    "PROB_infc_to_rec = 0.05\n",
    "PROB_infc_to_dec = 0.2"
   ]
  },
  {
   "cell_type": "code",
   "execution_count": 177,
   "metadata": {
    "id": "gvRWatxlUOI_"
   },
   "outputs": [],
   "source": [
    "from mesa import Agent, Model\n",
    "from mesa.time import RandomActivation\n",
    "from mesa.space import MultiGrid\n",
    "from mesa.datacollection import DataCollector\n",
    "\n",
    "class HumanAgent(Agent):\n",
    "\n",
    "    def __init__(self, unique_id, model):\n",
    "\n",
    "        super().__init__(unique_id, model)\n",
    "\n",
    "        self.homeId = unique_id//4 \n",
    "        self.health = NOT_INFECTED # Initialized as not infected\n",
    "        self.vaccinated = 0 # Initialized as not vaccincated\n",
    "        self.wearMask = 0 # Initialized as not wearing mask\n",
    "        self.alpha = ALPHA_NV # Alpha when not vaccinated\n",
    "        self.beta = BETA_NH # Beta when not at home\n",
    "        self.compliance_attitude = 1 #Default as fully compliant; set actual value when initializing the agents\n",
    "        self.payoff_history = {}\n",
    "\n",
    "    def step(self):\n",
    "        self.updateHealth()\n",
    "        self.move()\n",
    "\n",
    "    # Function for mobility pattern modeling\n",
    "    \n",
    "    def move(self):\n",
    "\n",
    "        x, y = self.pos\n",
    "        newX = x\n",
    "        newY = y\n",
    "        \n",
    "        if x==QC:\n",
    "            return\n",
    "        \n",
    "        if self.model.quarantine and self.model.QC_Occupancy < QC_LIMIT and self.health == INFECTED_S_CRITICAL:\n",
    "            self.model.grid.move_agent(self, (QC,0))\n",
    "            self.model.QC_Occupancy += 1\n",
    "            return\n",
    "        \n",
    "        if self.model.quarantine and self.model.QC_Occupancy < QC_LIMIT and self.health == INFECTED_S_MILD and self.random.uniform(0, 1) <= 0.20:\n",
    "            self.model.grid.move_agent(self, (QC,0))\n",
    "            self.model.QC_Occupancy += 1\n",
    "            return\n",
    "        \n",
    "        if x == HOME:\n",
    "\n",
    "            p = self.random.uniform(0, 1)\n",
    "            \n",
    "            # Visit park with 10% probability\n",
    "            if p <= 0.1:\n",
    "                newX = PARK\n",
    "                newY = self.random.choice((0,1)) # Visit one of the two parks\n",
    "              # Visit grocery store with 20% probability\n",
    "            elif p <= 0.3:\n",
    "                newX = GROCERY\n",
    "                newY = self.random.choice((0,1,2,3,4)) # Visit one of the five grocery stores\n",
    "            # Visit VC with 10% probability\n",
    "            elif p <= 0.4 and self.model.VC_Occupancy < VC_LIMIT and self.vaccinated == 0:\n",
    "            # FOR INCLUDING COMPLIANCE ATTITUDE COMMENT THE PREVIOUS LINE AND UNCOMMENT THE NEXT LINE\n",
    "            # elif p <= 0.3 + 0.1*self.compliance_attitude and self.model.VC_Occupancy < VC_LIMIT and self.vaccinated == 0:\n",
    "                newX = VC\n",
    "                newY = 0\n",
    "                self.model.VC_Occupancy += 1\n",
    "                self.vaccinated = 1\n",
    "                self.alpha = ALPHA_V\n",
    "            else:\n",
    "                newX = x\n",
    "                newY = y\n",
    "\n",
    "        # VC to be added here\n",
    "        if x == GROCERY or x == PARK or x == VC: # If grocery, park, or vaccine center, return home\n",
    "            newX = HOME\n",
    "            newY = self.homeId\n",
    "            if x == VC:\n",
    "                self.model.VC_Occupancy -= 1\n",
    "        \n",
    "        if newX == HOME: \n",
    "            self.beta = BETA_H\n",
    "        else:\n",
    "            self.beta = BETA_NH\n",
    "\n",
    "        # Decision to wear mask everyday based on compliance attitude \n",
    "        p = self.random.uniform(0, 1)\n",
    "\n",
    "        if p < self.compliance_attitude:\n",
    "            self.wearMask = 1\n",
    "            \n",
    "        self.model.grid.move_agent(self, (newX,newY))\n",
    "\n",
    "    # Function for modeling the spread of the virus\n",
    "    # Social distancing or mask wearing currently has no affect; updateHealth should be revised\n",
    "\n",
    "    def updateHealth(self):\n",
    "\n",
    "        p = self.random.uniform(0, 1)\n",
    "        \n",
    "        if self.health == INFECTED_A and p < (self.model.p_infa_to_infm * self.alpha):\n",
    "            self.health = INFECTED_S_MILD\n",
    "        elif self.health == INFECTED_A and p > 1 - (self.model.p_infa_to_rec * self.beta):\n",
    "            self.health = NOT_INFECTED\n",
    "        elif self.health == INFECTED_S_MILD and p < (self.model.p_infm_to_infc * self.alpha):\n",
    "            self.health = INFECTED_S_CRITICAL\n",
    "        elif self.health == INFECTED_A and p > 1 - (self.model.p_infm_to_rec * self.beta):\n",
    "            self.health = NOT_INFECTED\n",
    "            x,y = self.pos\n",
    "            if x == QC:\n",
    "                self.model.QC_Occupancy -= 1                \n",
    "        elif self.health == INFECTED_S_CRITICAL and p < (self.model.p_infc_to_dec * self.alpha):\n",
    "            self.health = DECEASED\n",
    "            self.model.deceasedCount += 1\n",
    "            x,y = self.pos\n",
    "            if x == QC:\n",
    "                self.model.QC_Occupancy -= 1\n",
    "            if x == VC:\n",
    "                self.model.VC_Occupancy -= 1\n",
    "        elif self.health == INFECTED_S_CRITICAL and p > 1 - (self.model.p_infm_to_rec * self.beta):\n",
    "            self.health = NOT_INFECTED\n",
    "            x,y = self.pos\n",
    "            if x == QC:\n",
    "                self.model.QC_Occupancy -= 1  \n",
    "                \n",
    "        return\n",
    "    \n",
    "    def infect(self):\n",
    "        p = self.random.uniform(0, 1)\n",
    "        if self.health == NOT_INFECTED and p < (self.model.p_notinf_to_infa*self.alpha):\n",
    "                self.health += INFECTED_A\n",
    "\n",
    "def compute_infected(model):\n",
    "    infectedAgents = [agent for agent in model.schedule.agents if agent.health in (INFECTED_A, INFECTED_S_MILD, INFECTED_S_CRITICAL) ]\n",
    "    return len(infectedAgents)\n",
    "\n",
    "class CovidModel(Model):\n",
    "\n",
    "    \"\"\"A model with some number of agents.\"\"\"\n",
    "    def __init__(self, N, startingState, complianceList, quarantine = False, socialDistancing = False):\n",
    "\n",
    "        self.num_agents = N\n",
    "        # self.random.seed(42)\n",
    "        self.QC_Occupancy = 0\n",
    "        self.VC_Occupancy = 0 #Variable for VC_Occupancy\n",
    "        self.deceasedCount = 0\n",
    "        self.quarantine = quarantine\n",
    "        # self.grid = MultiGrid(5 if quarantine else 4, 250, False) \n",
    "        self.grid = MultiGrid(5, 250, False) # Grid for five places (Home, Park, Grocery, QC, and VC)\n",
    "        self.schedule = RandomActivation(self)\n",
    "        self.running = True\n",
    "        self.p_notinf_to_infa = PROB_notinf_to_infa\n",
    "        self.p_infa_to_infm = PROB_infa_to_infm\n",
    "        self.p_infm_to_infc = PROB_infm_to_infc\n",
    "        self.p_infa_to_rec = PROB_infa_to_rec\n",
    "        self.p_infm_to_rec = PROB_infm_to_rec\n",
    "        self.p_infc_to_rec = PROB_infc_to_rec\n",
    "        self.p_infc_to_dec = PROB_infc_to_dec\n",
    "        \n",
    "        # Create agents\n",
    "        for i in range(self.num_agents):\n",
    "\n",
    "            a = HumanAgent(i, self)\n",
    "            a.compliance_attitude = complianceList[i] # Compliance value is set here\n",
    "            \n",
    "            self.schedule.add(a)\n",
    "            self.grid.place_agent(a, (HOME, a.homeId))\n",
    "        \n",
    "        for a in self.random.sample(self.schedule.agents,int(startingState*N)):\n",
    "            a.health = INFECTED_A\n",
    "        # Data collector helps to collect data at agent level and model level\n",
    "        # https://buildmedia.readthedocs.org/media/pdf/mesa/master/mesa.pdf (See Section 4.6.3, pg 42)\n",
    "        self.datacollector = DataCollector(\n",
    "            model_reporters={\"Infected\": compute_infected,\n",
    "                             \"QC_Occupancy\": \"QC_Occupancy\"}\n",
    "            )\n",
    "        \n",
    "    def step(self):\n",
    "\n",
    "        self.datacollector.collect(self)\n",
    "        '''Advance the model by one step.'''\n",
    "        self.schedule.step()\n",
    "        self.identifyAgentsAndUpdateSpread()\n",
    "\n",
    "    def identifyAgentsAndUpdateSpread(self):\n",
    "\n",
    "        # Park\n",
    "        for y in range(2):\n",
    "            agents = self.grid.get_cell_list_contents([(PARK,y)])\n",
    "            self.updateSpread(agents)\n",
    "        \n",
    "        # Grocery\n",
    "        for y in range(5):\n",
    "            agents = self.grid.get_cell_list_contents([(GROCERY,y)])\n",
    "            self.updateSpread(agents)\n",
    "        \n",
    "        # Home\n",
    "        for y in range(250):\n",
    "            agents = self.grid.get_cell_list_contents([(HOME,y)])\n",
    "            self.updateSpread(agents)\n",
    "    \n",
    "    def updateSpread(self, agents):\n",
    "        if any(a.health in (INFECTED_A, INFECTED_S_MILD, INFECTED_S_CRITICAL) for a in agents):\n",
    "            [a.infect() for a in agents]"
   ]
  },
  {
   "cell_type": "code",
   "execution_count": 178,
   "metadata": {
    "id": "PjPjGA9uyaBY"
   },
   "outputs": [],
   "source": [
    "\n",
    "def runSimulation(startingState, complianceList, quarantine=False,socialDistancing=False):\n",
    "    \n",
    "    modelInst = CovidModel(NUM_OF_AGENTS, startingState, complianceList, quarantine, socialDistancing,)\n",
    "    i=0\n",
    "    \n",
    "    while any(a.health in (INFECTED_A, INFECTED_S_MILD, INFECTED_S_CRITICAL) and i<=500 for a in modelInst.schedule.agents):\n",
    "        i += 1\n",
    "#         if i%100 == 0:\n",
    "#             print(i)\n",
    "        modelInst.step()\n",
    "    \n",
    "    modelDF = modelInst.datacollector.get_model_vars_dataframe()\n",
    "    \n",
    "    return i, modelInst.deceasedCount, modelDF.QC_Occupancy, modelDF.Infected"
   ]
  },
  {
   "cell_type": "markdown",
   "metadata": {
    "id": "BF4937_SU85E"
   },
   "source": [
    "# Scenario 1a. No Quarantine Centers and No Social Distancing; 10% Infection at Start\n",
    "StartingState = 10%\n",
    "\n",
    "Quarantine=False\n",
    "\n",
    "Social Distancing=False"
   ]
  },
  {
   "cell_type": "code",
   "execution_count": 179,
   "metadata": {
    "colab": {
     "base_uri": "https://localhost:8080/",
     "height": 316
    },
    "id": "XLcEKQfAU_nP",
    "outputId": "6b666fe7-f0e9-4973-81bd-028b23ab5c7b"
   },
   "outputs": [
    {
     "name": "stdout",
     "output_type": "stream",
     "text": [
      "Average number of days before stabilization: 150.3\n",
      "Average of the Day with peak Infection (290.2): 3.6\n",
      "Average Number of Casualties: 189.7\n"
     ]
    },
    {
     "data": {
      "image/png": "[encoded data removed]",
      "text/plain": [
       "<Figure size 432x288 with 1 Axes>"
      ]
     },
     "metadata": {
      "needs_background": "light"
     },
     "output_type": "display_data"
    }
   ],
   "source": [
    "StartingState = 0.1\n",
    "quarantine=False\n",
    "socialDistancing=False\n",
    "averageDays = 0\n",
    "dayWithMaxInfectionRate = 0\n",
    "maxInfection = 0\n",
    "averageCasualties = 0\n",
    "\n",
    "# Array to set agents with compliance as 1\n",
    "# complianceList = np.full(NUM_OF_AGENTS, fill_value=1, dtype=int)\n",
    "\n",
    "# Array to set agents with compliance with uniform distribution from 0 to 1\n",
    "complianceList = np.arange(0, 1, 1/NUM_OF_AGENTS)\n",
    "\n",
    "for i in range(3):\n",
    "    \n",
    "    days, Casualties, QC_Occupancy, Infected = runSimulation(StartingState,complianceList,quarantine,socialDistancing)\n",
    "    averageDays+=days\n",
    "    dayWithMaxInfectionRate+=Infected.idxmax()\n",
    "    maxInfection += Infected.max()\n",
    "    averageCasualties += Casualties\n",
    "    \n",
    "    if i == 2:\n",
    "        # QC_Occupancy.plot(legend=True)\n",
    "        Infected.plot(legend=True)\n",
    "\n",
    "print('Average number of days before stabilization: ' + str(averageDays/10))\n",
    "print('Average of the Day with peak Infection ('+str(maxInfection/10)+'): ' + str(dayWithMaxInfectionRate/10))\n",
    "print('Average Number of Casualties: ' + str(averageCasualties/10))\n"
   ]
  },
  {
   "cell_type": "code",
   "execution_count": 180,
   "metadata": {},
   "outputs": [
    {
     "data": {
      "text/plain": [
       "<AxesSubplot:>"
      ]
     },
     "execution_count": 180,
     "metadata": {},
     "output_type": "execute_result"
    },
    {
     "data": {
      "image/png": "[encoded data removed]",
      "text/plain": [
       "<Figure size 432x288 with 1 Axes>"
      ]
     },
     "metadata": {
      "needs_background": "light"
     },
     "output_type": "display_data"
    }
   ],
   "source": [
    "Infected.plot(legend=True)"
   ]
  },
  {
   "cell_type": "markdown",
   "metadata": {
    "id": "NI_OUc-gby6-"
   },
   "source": [
    "# Scenario 1b. No Quarantine Centers and No Social Distancing; 25% Infection at Start\n",
    "StartingState = 25%\n",
    "\n",
    "Quarantine=False\n",
    "\n",
    "Social Distancing=False"
   ]
  },
  {
   "cell_type": "code",
   "execution_count": 181,
   "metadata": {
    "colab": {
     "base_uri": "https://localhost:8080/",
     "height": 316
    },
    "id": "NSeDHpcicDso",
    "outputId": "69294274-26c7-4917-b4c7-853276b14d6a"
   },
   "outputs": [
    {
     "name": "stdout",
     "output_type": "stream",
     "text": [
      "Average number of days before stabilization: 150.3\n",
      "Average of the Day with peak Infection (289.5): 2.7\n",
      "Average Number of Casualties: 192.6\n"
     ]
    },
    {
     "data": {
      "image/png": "[encoded data removed]",
      "text/plain": [
       "<Figure size 432x288 with 1 Axes>"
      ]
     },
     "metadata": {
      "needs_background": "light"
     },
     "output_type": "display_data"
    }
   ],
   "source": [
    "StartingState = 0.25\n",
    "quarantine=False\n",
    "socialDistancing=False\n",
    "averageDays = 0\n",
    "dayWithMaxInfectionRate = 0\n",
    "maxInfection = 0\n",
    "averageCasualties = 0\n",
    "\n",
    "# Array to set agents with compliance as 1\n",
    "complianceList = np.full(NUM_OF_AGENTS, fill_value=1, dtype=int)\n",
    "\n",
    "# Array to set agents with compliance with uniform distribution from 0 to 1\n",
    "# compliance = np.arange(0, 1, 1/NUM_OF_AGENTS)\n",
    "\n",
    "for i in range(3):\n",
    "\n",
    "    days, Casualties, QC_Occupancy, Infected = runSimulation(StartingState,complianceList,quarantine,socialDistancing)\n",
    "    averageDays+=days\n",
    "    dayWithMaxInfectionRate+=Infected.idxmax()\n",
    "    maxInfection += Infected.max()\n",
    "    averageCasualties += Casualties\n",
    "    \n",
    "    if i == 2:\n",
    "        # QC_Occupancy.plot(legend=True)\n",
    "        Infected.plot(legend=True)\n",
    "\n",
    "print('Average number of days before stabilization: ' + str(averageDays/10))\n",
    "print('Average of the Day with peak Infection ('+str(maxInfection/10)+'): ' + str(dayWithMaxInfectionRate/10))\n",
    "print('Average Number of Casualties: ' + str(averageCasualties/10))"
   ]
  },
  {
   "cell_type": "code",
   "execution_count": 182,
   "metadata": {},
   "outputs": [
    {
     "data": {
      "text/plain": [
       "<AxesSubplot:>"
      ]
     },
     "execution_count": 182,
     "metadata": {},
     "output_type": "execute_result"
    },
    {
     "data": {
      "image/png": "[encoded data removed]",
      "text/plain": [
       "<Figure size 432x288 with 1 Axes>"
      ]
     },
     "metadata": {
      "needs_background": "light"
     },
     "output_type": "display_data"
    }
   ],
   "source": [
    "Infected.plot(legend=True)"
   ]
  },
  {
   "cell_type": "markdown",
   "metadata": {},
   "source": [
    "# Scenario 1c. No Quarantine Centers and No Social Distancing; 50% Infection at Start\n",
    "StartingState = 50%\n",
    "\n",
    "Quarantine=False\n",
    "\n",
    "Social Distancing=False"
   ]
  },
  {
   "cell_type": "code",
   "execution_count": 183,
   "metadata": {},
   "outputs": [
    {
     "name": "stdout",
     "output_type": "stream",
     "text": [
      "Average number of days before stabilization: 150.3\n",
      "Average of the Day with peak Infection (291.4): 2.3\n",
      "Average Number of Casualties: 188.4\n"
     ]
    },
    {
     "data": {
      "image/png": "[encoded data removed]",
      "text/plain": [
       "<Figure size 432x288 with 1 Axes>"
      ]
     },
     "metadata": {
      "needs_background": "light"
     },
     "output_type": "display_data"
    }
   ],
   "source": [
    "StartingState = 0.5\n",
    "quarantine=False\n",
    "socialDistancing=False\n",
    "averageDays = 0\n",
    "dayWithMaxInfectionRate = 0\n",
    "maxInfection = 0\n",
    "averageCasualties = 0\n",
    "\n",
    "# Array to set agents with compliance as 1\n",
    "complianceList = np.full(NUM_OF_AGENTS, fill_value=1, dtype=int)\n",
    "\n",
    "# Array to set agents with compliance with uniform distribution from 0 to 1\n",
    "# compliance = np.arange(0, 1, 1/NUM_OF_AGENTS)\n",
    "\n",
    "for i in range(3):\n",
    "\n",
    "    days, Casualties, QC_Occupancy, Infected = runSimulation(StartingState,complianceList,quarantine,socialDistancing)\n",
    "    averageDays+=days\n",
    "    dayWithMaxInfectionRate+=Infected.idxmax()\n",
    "    maxInfection += Infected.max()\n",
    "    averageCasualties += Casualties\n",
    "    \n",
    "    if i == 2:\n",
    "        # QC_Occupancy.plot(legend=True)\n",
    "        Infected.plot(legend=True)\n",
    "\n",
    "print('Average number of days before stabilization: ' + str(averageDays/10))\n",
    "print('Average of the Day with peak Infection ('+str(maxInfection/10)+'): ' + str(dayWithMaxInfectionRate/10))\n",
    "print('Average Number of Casualties: ' + str(averageCasualties/10))"
   ]
  },
  {
   "cell_type": "code",
   "execution_count": 184,
   "metadata": {},
   "outputs": [
    {
     "data": {
      "text/plain": [
       "<AxesSubplot:>"
      ]
     },
     "execution_count": 184,
     "metadata": {},
     "output_type": "execute_result"
    },
    {
     "data": {
      "image/png": "[encoded data removed]",
      "text/plain": [
       "<Figure size 432x288 with 1 Axes>"
      ]
     },
     "metadata": {
      "needs_background": "light"
     },
     "output_type": "display_data"
    }
   ],
   "source": [
    "Infected.plot(legend=True)"
   ]
  },
  {
   "cell_type": "markdown",
   "metadata": {},
   "source": [
    "# Adding Quarantine Centers\n",
    "Enable quarantine centers for each baseline and see how the plots change\n",
    "In the line plot, include a plot for capacity of qurantine center too"
   ]
  },
  {
   "cell_type": "code",
   "execution_count": 185,
   "metadata": {},
   "outputs": [],
   "source": [
    "# Add code to generate plots with quarantine centers here"
   ]
  },
  {
   "cell_type": "markdown",
   "metadata": {},
   "source": [
    "# Scenario 2a. Quarantine Centers; 10% Infection at start)\n",
    "StartingState = 10%\n",
    "\n",
    "Quarantine=True\n",
    "\n",
    "Social Distancing=False"
   ]
  },
  {
   "cell_type": "code",
   "execution_count": 186,
   "metadata": {},
   "outputs": [
    {
     "name": "stdout",
     "output_type": "stream",
     "text": [
      "Average number of days before stabilization: 150.3\n",
      "Average of the Day with peak Infection (288.9): 3.1\n",
      "Average Number of Casualties: 174.0\n",
      "Average of Max Quarantine centre capacity utilized: 30.0\n",
      "Average of Max Quarantine centre capacity utilized at: 1.0\n"
     ]
    },
    {
     "data": {
      "image/png": "[encoded data removed]",
      "text/plain": [
       "<Figure size 432x288 with 1 Axes>"
      ]
     },
     "metadata": {
      "needs_background": "light"
     },
     "output_type": "display_data"
    }
   ],
   "source": [
    "StartingState = 0.1\n",
    "quarantine=True\n",
    "socialDistancing=False\n",
    "averageDays = 0\n",
    "dayWithMaxInfectionRate = 0\n",
    "maxInfection = 0\n",
    "averageCasualties = 0\n",
    "averageMaxCapacityDay = 0\n",
    "averageMaxCapacity = 0\n",
    "\n",
    "# Array to set agents with compliance as 1\n",
    "complianceList = np.full(NUM_OF_AGENTS, fill_value=1, dtype=int)\n",
    "\n",
    "# Array to set agents with compliance with uniform distribution from 0 to 1\n",
    "# compliance = np.arange(0, 1, 1/NUM_OF_AGENTS)\n",
    "\n",
    "for i in range(3):\n",
    "    \n",
    "    days, Casualties, QC_Occupancy, Infected = runSimulation(StartingState,complianceList,quarantine,socialDistancing)\n",
    "    averageDays+=days\n",
    "    dayWithMaxInfectionRate+=Infected.idxmax()\n",
    "    maxInfection += Infected.max()\n",
    "    averageMaxCapacity += QC_Occupancy.max()\n",
    "    averageMaxCapacityDay += QC_Occupancy.idxmax()\n",
    "    averageCasualties += Casualties\n",
    "    \n",
    "    if i == 2:\n",
    "        QC_Occupancy.plot(legend=True)\n",
    "        Infected.plot(legend=True)\n",
    "\n",
    "print('Average number of days before stabilization: ' + str(averageDays/10))\n",
    "print('Average of the Day with peak Infection ('+str(maxInfection/10)+'): ' + str(dayWithMaxInfectionRate/10))\n",
    "print('Average Number of Casualties: ' + str(averageCasualties/10))\n",
    "print('Average of Max Quarantine centre capacity utilized: ' + str(averageMaxCapacity/10))\n",
    "print('Average of Max Quarantine centre capacity utilized at: ' + str(averageMaxCapacityDay/10))"
   ]
  },
  {
   "cell_type": "markdown",
   "metadata": {},
   "source": [
    "# Scenario 2b. Quarantine Centers; 25% Infection at Start\n",
    "StartingState = 25%\n",
    "\n",
    "Quarantine=True\n",
    "\n",
    "Social Distancing=False"
   ]
  },
  {
   "cell_type": "code",
   "execution_count": 187,
   "metadata": {},
   "outputs": [
    {
     "name": "stdout",
     "output_type": "stream",
     "text": [
      "Average number of days before stabilization: 150.3\n",
      "Average of the Day with peak Infection (288.5): 3.4\n",
      "Average Number of Casualties: 176.0\n",
      "Average of Max Quarantine centre capacity utilized: 30.0\n",
      "Average of Max Quarantine centre capacity utilized at: 0.9\n"
     ]
    },
    {
     "data": {
      "image/png": "[encoded data removed]",
      "text/plain": [
       "<Figure size 432x288 with 1 Axes>"
      ]
     },
     "metadata": {
      "needs_background": "light"
     },
     "output_type": "display_data"
    }
   ],
   "source": [
    "StartingState = 0.25\n",
    "quarantine=True\n",
    "socialDistancing=False\n",
    "averageDays = 0\n",
    "dayWithMaxInfectionRate = 0\n",
    "maxInfection = 0\n",
    "averageCasualties = 0\n",
    "averageMaxCapacityDay = 0\n",
    "averageMaxCapacity = 0\n",
    "\n",
    "# Array to set agents with compliance as 1\n",
    "complianceList = np.full(NUM_OF_AGENTS, fill_value=1, dtype=int)\n",
    "\n",
    "# Array to set agents with compliance with uniform distribution from 0 to 1\n",
    "# compliance = np.arange(0, 1, 1/NUM_OF_AGENTS)\n",
    "\n",
    "for i in range(3):\n",
    "    \n",
    "    days, Casualties, QC_Occupancy, Infected = runSimulation(StartingState,complianceList,quarantine,socialDistancing)\n",
    "    averageDays+=days\n",
    "    dayWithMaxInfectionRate+=Infected.idxmax()\n",
    "    maxInfection += Infected.max()\n",
    "    averageMaxCapacity += QC_Occupancy.max()\n",
    "    averageMaxCapacityDay += QC_Occupancy.idxmax()\n",
    "    averageCasualties += Casualties\n",
    "    \n",
    "    if i == 2:\n",
    "        QC_Occupancy.plot(legend=True)\n",
    "        Infected.plot(legend=True)\n",
    "\n",
    "print('Average number of days before stabilization: ' + str(averageDays/10))\n",
    "print('Average of the Day with peak Infection ('+str(maxInfection/10)+'): ' + str(dayWithMaxInfectionRate/10))\n",
    "print('Average Number of Casualties: ' + str(averageCasualties/10))\n",
    "print('Average of Max Quarantine centre capacity utilized: ' + str(averageMaxCapacity/10))\n",
    "print('Average of Max Quarantine centre capacity utilized at: ' + str(averageMaxCapacityDay/10))"
   ]
  },
  {
   "cell_type": "markdown",
   "metadata": {},
   "source": [
    "# Scenario 2c. Quarantine Centers; 50% Infection at Start\n",
    "StartingState = 50%\n",
    "\n",
    "Quarantine=True\n",
    "\n",
    "Social Distancing=False"
   ]
  },
  {
   "cell_type": "code",
   "execution_count": 188,
   "metadata": {},
   "outputs": [
    {
     "name": "stdout",
     "output_type": "stream",
     "text": [
      "Average number of days before stabilization: 150.3\n",
      "Average of the Day with peak Infection (290.7): 2.5\n",
      "Average Number of Casualties: 177.2\n",
      "Average of Max Quarantine centre capacity utilized: 30.0\n",
      "Average of Max Quarantine centre capacity utilized at: 0.7\n"
     ]
    },
    {
     "data": {
      "image/png": "[encoded data removed]",
      "text/plain": [
       "<Figure size 432x288 with 1 Axes>"
      ]
     },
     "metadata": {
      "needs_background": "light"
     },
     "output_type": "display_data"
    }
   ],
   "source": [
    "StartingState = 0.50\n",
    "quarantine=True\n",
    "socialDistancing=False\n",
    "averageDays = 0\n",
    "dayWithMaxInfectionRate = 0\n",
    "maxInfection = 0\n",
    "averageCasualties = 0\n",
    "averageMaxCapacityDay = 0\n",
    "averageMaxCapacity = 0\n",
    "\n",
    "# Array to set agents with compliance as 1\n",
    "complianceList = np.full(NUM_OF_AGENTS, fill_value=1, dtype=int)\n",
    "\n",
    "# Array to set agents with compliance with uniform distribution from 0 to 1\n",
    "# compliance = np.arange(0, 1, 1/NUM_OF_AGENTS)\n",
    "\n",
    "for i in range(3):\n",
    "\n",
    "    days, Casualties, QC_Occupancy, Infected = runSimulation(StartingState,complianceList,quarantine,socialDistancing)\n",
    "    averageDays+=days\n",
    "    dayWithMaxInfectionRate+=Infected.idxmax()\n",
    "    maxInfection += Infected.max()\n",
    "    averageMaxCapacity += QC_Occupancy.max()\n",
    "    averageMaxCapacityDay += QC_Occupancy.idxmax()\n",
    "    averageCasualties += Casualties\n",
    "    \n",
    "    if i == 2:\n",
    "        QC_Occupancy.plot(legend=True)\n",
    "        Infected.plot(legend=True)\n",
    "\n",
    "print('Average number of days before stabilization: ' + str(averageDays/10))\n",
    "print('Average of the Day with peak Infection ('+str(maxInfection/10)+'): ' + str(dayWithMaxInfectionRate/10))\n",
    "print('Average Number of Casualties: ' + str(averageCasualties/10))\n",
    "print('Average of Max Quarantine centre capacity utilized: ' + str(averageMaxCapacity/10))\n",
    "print('Average of Max Quarantine centre capacity utilized at: ' + str(averageMaxCapacityDay/10))"
   ]
  }
 ],
 "metadata": {
  "colab": {
   "collapsed_sections": [],
   "name": "MESA_SC555.ipynb",
   "provenance": []
  },
  "kernelspec": {
   "display_name": "Python 3",
   "language": "python",
   "name": "python3"
  },
  "language_info": {
   "codemirror_mode": {
    "name": "ipython",
    "version": 3
   },
   "file_extension": ".py",
   "mimetype": "text/x-python",
   "name": "python",
   "nbconvert_exporter": "python",
   "pygments_lexer": "ipython3",
   "version": "3.8.8"
  }
 },
 "nbformat": 4,
 "nbformat_minor": 4
}
